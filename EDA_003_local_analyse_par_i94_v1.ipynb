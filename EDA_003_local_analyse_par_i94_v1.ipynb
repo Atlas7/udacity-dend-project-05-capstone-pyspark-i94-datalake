{
 "cells": [
  {
   "cell_type": "markdown",
   "metadata": {
    "editable": true
   },
   "source": [
    "Objective: to get overall stats of the 12 i94 monthly SAS7BDAT files. e.g. how many rows per month, for 2016?"
   ]
  },
  {
   "cell_type": "code",
   "execution_count": 1,
   "metadata": {
    "editable": true
   },
   "outputs": [],
   "source": [
    "import os\n",
    "import pyspark\n",
    "import configparser\n",
    "from pyspark.sql import SparkSession"
   ]
  },
  {
   "cell_type": "code",
   "execution_count": 4,
   "metadata": {
    "editable": true
   },
   "outputs": [],
   "source": [
    "# Dev config from the non-secret configuration file\n",
    "config_dev = configparser.ConfigParser()\n",
    "config_dev.read_file(open('aws_dev.cfg'))\n",
    "\n",
    "PAR_I94_FILE_BY_NONE = config_dev.get('DATA_PATHS_LOCAL', 'PAR_I94_FILE_BY_NONE')\n",
    "PAR_I94_FILE_BY_I94MON = config_dev.get('DATA_PATHS_LOCAL', 'PAR_I94_FILE_BY_I94MON')\n",
    "PAR_I94_FILE_BY_I94YR_I94MON = config_dev.get('DATA_PATHS_LOCAL', 'PAR_I94_FILE_BY_I94YR_I94MON')"
   ]
  },
  {
   "cell_type": "code",
   "execution_count": 5,
   "metadata": {
    "editable": true
   },
   "outputs": [],
   "source": [
    "spark = SparkSession.builder.\\\n",
    "    enableHiveSupport().getOrCreate()"
   ]
  },
  {
   "cell_type": "code",
   "execution_count": 7,
   "metadata": {
    "editable": true
   },
   "outputs": [],
   "source": [
    "df_i94_by_none = spark.read.parquet(PAR_I94_FILE_BY_NONE)"
   ]
  },
  {
   "cell_type": "code",
   "execution_count": 8,
   "metadata": {
    "editable": true
   },
   "outputs": [
    {
     "name": "stdout",
     "output_type": "stream",
     "text": [
      "root\n",
      " |-- cicid: double (nullable = true)\n",
      " |-- i94yr: double (nullable = true)\n",
      " |-- i94mon: double (nullable = true)\n",
      " |-- i94cit: double (nullable = true)\n",
      " |-- i94res: double (nullable = true)\n",
      " |-- i94port: string (nullable = true)\n",
      " |-- arrdate: double (nullable = true)\n",
      " |-- i94mode: double (nullable = true)\n",
      " |-- i94addr: string (nullable = true)\n",
      " |-- depdate: double (nullable = true)\n",
      " |-- i94bir: double (nullable = true)\n",
      " |-- i94visa: double (nullable = true)\n",
      " |-- count: double (nullable = true)\n",
      " |-- dtadfile: string (nullable = true)\n",
      " |-- visapost: string (nullable = true)\n",
      " |-- occup: string (nullable = true)\n",
      " |-- entdepa: string (nullable = true)\n",
      " |-- entdepd: string (nullable = true)\n",
      " |-- entdepu: string (nullable = true)\n",
      " |-- matflag: string (nullable = true)\n",
      " |-- biryear: double (nullable = true)\n",
      " |-- dtaddto: string (nullable = true)\n",
      " |-- gender: string (nullable = true)\n",
      " |-- insnum: string (nullable = true)\n",
      " |-- airline: string (nullable = true)\n",
      " |-- admnum: double (nullable = true)\n",
      " |-- fltno: string (nullable = true)\n",
      " |-- visatype: string (nullable = true)\n",
      "\n"
     ]
    }
   ],
   "source": [
    "df_i94_by_none.printSchema()"
   ]
  },
  {
   "cell_type": "code",
   "execution_count": 9,
   "metadata": {
    "editable": true
   },
   "outputs": [
    {
     "name": "stdout",
     "output_type": "stream",
     "text": [
      "+------+------+-------+\n",
      "| i94yr|i94mon|records|\n",
      "+------+------+-------+\n",
      "|2016.0|  10.0|3649136|\n",
      "|2016.0|  12.0|3432990|\n",
      "|2016.0|   3.0|3157072|\n",
      "|2016.0|   9.0|3733786|\n",
      "|2016.0|   2.0|2570543|\n",
      "|2016.0|   4.0|3096313|\n",
      "|2016.0|   6.0|3574989|\n",
      "|2016.0|   8.0|4103570|\n",
      "|2016.0|  11.0|2914926|\n",
      "|2016.0|   1.0|2847924|\n",
      "|2016.0|   5.0|3444249|\n",
      "|2016.0|   7.0|4265031|\n",
      "+------+------+-------+\n",
      "\n"
     ]
    }
   ],
   "source": [
    "df_i94_by_none.createOrReplaceTempView(\"df_i94_by_none\")\n",
    "df_i94_by_none_agg_1 = spark.sql(\"\"\"\n",
    "select\n",
    "    i94yr,\n",
    "    i94mon,\n",
    "    count(*) as records\n",
    "from df_i94_by_none\n",
    "group by 1, 2\n",
    "\"\"\")\n",
    "df_i94_by_none_agg_1.show()"
   ]
  },
  {
   "cell_type": "code",
   "execution_count": 11,
   "metadata": {
    "editable": true
   },
   "outputs": [
    {
     "name": "stdout",
     "output_type": "stream",
     "text": [
      "+------+------+-------+\n",
      "| i94yr|i94mon|records|\n",
      "+------+------+-------+\n",
      "|2016.0|   1.0|2847924|\n",
      "|2016.0|   2.0|2570543|\n",
      "|2016.0|   3.0|3157072|\n",
      "|2016.0|   4.0|3096313|\n",
      "|2016.0|   5.0|3444249|\n",
      "|2016.0|   6.0|3574989|\n",
      "|2016.0|   7.0|4265031|\n",
      "|2016.0|   8.0|4103570|\n",
      "|2016.0|   9.0|3733786|\n",
      "|2016.0|  10.0|3649136|\n",
      "|2016.0|  11.0|2914926|\n",
      "|2016.0|  12.0|3432990|\n",
      "+------+------+-------+\n",
      "\n"
     ]
    }
   ],
   "source": [
    "df_i94_by_none_agg_1 = df_i94_by_none_agg_1.orderBy('i94yr', 'i94mon')\n",
    "df_i94_by_none_agg_1.show()"
   ]
  },
  {
   "cell_type": "code",
   "execution_count": 13,
   "metadata": {
    "editable": true
   },
   "outputs": [
    {
     "name": "stdout",
     "output_type": "stream",
     "text": [
      "total_rows = 40790529\n"
     ]
    }
   ],
   "source": [
    "total_rows = df_i94_by_none.count()\n",
    "print(f\"total_rows = {total_rows}\")"
   ]
  },
  {
   "cell_type": "code",
   "execution_count": 20,
   "metadata": {
    "editable": true
   },
   "outputs": [
    {
     "name": "stdout",
     "output_type": "stream",
     "text": [
      "+------+------+-------+------------------+\n",
      "| i94yr|i94mon|records|   percent_records|\n",
      "+------+------+-------+------------------+\n",
      "|2016.0|   1.0|2847924| 6.981826590187149|\n",
      "|2016.0|   2.0|2570543| 6.301813344955639|\n",
      "|2016.0|   3.0|3157072|7.7397182076260895|\n",
      "|2016.0|   4.0|3096313| 7.590764513007418|\n",
      "|2016.0|   5.0|3444249| 8.443746831525525|\n",
      "|2016.0|   6.0|3574989| 8.764262410031504|\n",
      "|2016.0|   7.0|4265031|10.455934513622022|\n",
      "|2016.0|   8.0|4103570|10.060104883660616|\n",
      "|2016.0|   9.0|3733786| 9.153561112188568|\n",
      "|2016.0|  10.0|3649136|  8.94603744903627|\n",
      "|2016.0|  11.0|2914926| 7.146085308185143|\n",
      "|2016.0|  12.0|3432990| 8.416144835974057|\n",
      "+------+------+-------+------------------+\n",
      "\n"
     ]
    }
   ],
   "source": [
    "df_i94_by_none_agg_1.createOrReplaceTempView(\"df_i94_by_none_agg_1\")\n",
    "df_i94_by_none_agg_2 = spark.sql(f\"\"\"\n",
    "select\n",
    "    i94yr,\n",
    "    i94mon,\n",
    "    records,\n",
    "    records / {total_rows} * 100 as percent_records\n",
    "from df_i94_by_none_agg_1\n",
    "\"\"\")\n",
    "df_i94_by_none_agg_2.show()"
   ]
  },
  {
   "cell_type": "code",
   "execution_count": 28,
   "metadata": {
    "editable": true
   },
   "outputs": [],
   "source": [
    "df_i94_by_none_agg_2_pd = df_i94_by_none_agg_2.toPandas()"
   ]
  },
  {
   "cell_type": "code",
   "execution_count": 31,
   "metadata": {
    "editable": true
   },
   "outputs": [],
   "source": [
    "%matplotlib inline"
   ]
  },
  {
   "cell_type": "code",
   "execution_count": 34,
   "metadata": {
    "editable": true
   },
   "outputs": [
    {
     "data": {
      "text/plain": [
       "<matplotlib.axes._subplots.AxesSubplot at 0x7feae89aebe0>"
      ]
     },
     "execution_count": 34,
     "metadata": {},
     "output_type": "execute_result"
    },
    {
     "data": {
      "image/png": "[encoded data removed]",
      "text/plain": [
       "<matplotlib.figure.Figure at 0x7feae88c05f8>"
      ]
     },
     "metadata": {
      "needs_background": "light"
     },
     "output_type": "display_data"
    }
   ],
   "source": [
    "df_i94_by_none_agg_2_pd.plot.bar(x='i94mon', y='records', color='royalblue')"
   ]
  },
  {
   "cell_type": "markdown",
   "metadata": {
    "editable": true
   },
   "source": [
    "Casual observations:\n",
    "\n",
    "* 40,790,529 datapoints during 2016 in i94 file.\n",
    "* there appears to be more data points during the summer season (July-Aug)\n",
    "* lowest number of data points during Feburary, followed by November.\n"
   ]
  },
  {
   "cell_type": "code",
   "execution_count": 35,
   "metadata": {
    "editable": true
   },
   "outputs": [],
   "source": [
    "spark.stop()"
   ]
  },
  {
   "cell_type": "code",
   "execution_count": null,
   "metadata": {
    "editable": true
   },
   "outputs": [],
   "source": []
  }
 ],
 "metadata": {
  "kernelspec": {
   "display_name": "Python 3",
   "language": "python",
   "name": "python3"
  },
  "language_info": {
   "codemirror_mode": {
    "name": "ipython",
    "version": 3
   },
   "file_extension": ".py",
   "mimetype": "text/x-python",
   "name": "python",
   "nbconvert_exporter": "python",
   "pygments_lexer": "ipython3",
   "version": "3.6.3"
  }
 },
 "nbformat": 4,
 "nbformat_minor": 4
}
